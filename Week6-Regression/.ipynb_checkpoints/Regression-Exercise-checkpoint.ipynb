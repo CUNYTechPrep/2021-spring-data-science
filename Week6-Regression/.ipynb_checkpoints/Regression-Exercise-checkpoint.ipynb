{
 "cells": [
  {
   "cell_type": "markdown",
   "metadata": {},
   "source": [
    "# Regression Exercise\n",
    "Using Regression to predict wine quality."
   ]
  },
  {
   "cell_type": "markdown",
   "metadata": {},
   "source": [
    "## Import Our Libraries"
   ]
  },
  {
   "cell_type": "code",
   "execution_count": null,
   "metadata": {},
   "outputs": [],
   "source": [
    "# PANDAS IS FOR DATA WRANGLING\n",
    "import pandas as pd\n",
    "\n",
    "# SEABORN IS A PLOTTING LIBRARY\n",
    "import seaborn as sns\n",
    "\n",
    "# MATPLOT LIB IS ALSO A PLOTTING LIBRARY\n",
    "import matplotlib.pyplo\n",
    "\n",
    "# IMPORT OUR LINEAR REGRESSION MODEL\n",
    "\n",
    "\n",
    "# IMPORT OUR RANDOM FOREST REGERSSOR MODEL\n",
    "\n",
    "\n",
    "\n",
    "# IM LEAVING THERES HERE BECAUSE IM NICE\n",
    "# METRICS HELP US SCORE OUR MODEL\n",
    "from sklearn import metrics\n",
    "\n",
    "# HELP US SPLIT OUR DATA INTO TESTING A TRAINING\n",
    "from sklearn.model_selection import train_test_split\n",
    "\n",
    "# HELPER FUNCTION WITH Z-SCORES TO REMOVE OUTLIERS\n",
    "import scipy.stats as stats\n",
    "\n",
    "%matplotlib inline"
   ]
  },
  {
   "cell_type": "markdown",
   "metadata": {},
   "source": [
    "# Remember our main steps motto _isbe_.\n",
    "1. i - Inspect and explore data.\n",
    "2. s - Select and engineer features.\n",
    "3. b - Build and train model.\n",
    "4. e - Evaluate model."
   ]
  },
  {
   "cell_type": "markdown",
   "metadata": {},
   "source": [
    "# STEP 1 (i): Inspect and explore data\n",
    "1. Use `data/winequality-white.csv`"
   ]
  },
  {
   "cell_type": "code",
   "execution_count": null,
   "metadata": {},
   "outputs": [],
   "source": [
    "# READ IN THE DATA USING PANDAS \n",
    "df = ???\n",
    "\n",
    "# DISPLAY THE FIRST 5 ROWS"
   ]
  },
  {
   "cell_type": "markdown",
   "metadata": {},
   "source": [
    "# Inspect our data using `df.describe()` function."
   ]
  },
  {
   "cell_type": "code",
   "execution_count": null,
   "metadata": {},
   "outputs": [],
   "source": [
    "# Inspect our data using `df.describe()` function.\n"
   ]
  },
  {
   "cell_type": "markdown",
   "metadata": {},
   "source": [
    "# Check for Nulls."
   ]
  },
  {
   "cell_type": "code",
   "execution_count": null,
   "metadata": {},
   "outputs": [],
   "source": [
    "# Check for Nulls.\n"
   ]
  },
  {
   "cell_type": "markdown",
   "metadata": {},
   "source": [
    "# Check for Duplicates"
   ]
  },
  {
   "cell_type": "code",
   "execution_count": null,
   "metadata": {},
   "outputs": [],
   "source": [
    "# Check for Duplicates\n",
    "\n"
   ]
  },
  {
   "cell_type": "code",
   "execution_count": null,
   "metadata": {},
   "outputs": [],
   "source": [
    "# Remove duplicates\n",
    "print(df.shape)\n",
    "\n",
    "\n",
    "\n",
    "# Sanity check\n",
    "print(df.shape)"
   ]
  },
  {
   "cell_type": "markdown",
   "metadata": {},
   "source": [
    "# Visualize our data to discover outliers.\n",
    "* Use `sns.pariplot`"
   ]
  },
  {
   "cell_type": "code",
   "execution_count": null,
   "metadata": {},
   "outputs": [],
   "source": [
    "# Visualize our data to discover outliers.\n"
   ]
  },
  {
   "cell_type": "markdown",
   "metadata": {},
   "source": [
    "___\n",
    "# STEP 2  (s):  Select and Engineer Features"
   ]
  },
  {
   "cell_type": "markdown",
   "metadata": {},
   "source": [
    "# Remove outliers\n",
    "* Make sure you DO NOT remove outliers from our target variable of `quality`."
   ]
  },
  {
   "cell_type": "code",
   "execution_count": null,
   "metadata": {},
   "outputs": [],
   "source": [
    "# Keep this for later\n",
    "original_cols = df.columns\n",
    "\n",
    "# Set the columns you want to remove outliers for\n",
    "target_cols = ???\n",
    "\n",
    "# Make a new list that is going to contain our z-score\n",
    "z_score_cols = []\n",
    "\n",
    "# Loop through our target columns\n",
    "for col in target_cols:\n",
    "    # Make the new column name the same as the original but with 'z_score' added to it\n",
    "\n",
    "    \n",
    "    # Set the new column equal to the score\n",
    "\n",
    "    \n",
    "    # Set the z-score to its absolute value of the for easier filtering\n",
    "\n",
    "    \n",
    "    # Append the new column name our our z_score_cols list for easier access for later.\n",
    "\n",
    "\n",
    "\n",
    "condition = ???\n",
    "\n",
    "# Say TRUE only if all of the rows are True, else return False\n",
    "condition = condition.all(axis=1)\n",
    "\n",
    "print('Before removal of outliers', df.shape)\n",
    "\n",
    "# Apply our condition to our dataframe and replace our current dataframe with the applied condition.\n",
    "df = ???\n",
    "\n",
    "print('After removal of outliers', df.shape)"
   ]
  },
  {
   "cell_type": "code",
   "execution_count": null,
   "metadata": {},
   "outputs": [],
   "source": [
    "# Keep only original columns\n",
    "df = df[original_cols]\n",
    "\n",
    "# Visualize using sns.pairplot again to see if outliers were removed. "
   ]
  },
  {
   "cell_type": "markdown",
   "metadata": {},
   "source": [
    "# Find which features have a linear relationship with quality.\n",
    "* Plot below the linear relationship between each variable against quality.\n",
    "* Use `sns.relplot`"
   ]
  },
  {
   "cell_type": "code",
   "execution_count": null,
   "metadata": {
    "scrolled": false
   },
   "outputs": [],
   "source": [
    "# Plot below the linear relationship between each variable against quality\n",
    "\n",
    "all_features = ['fixed acidity', 'volatile acidity', 'citric acid', 'residual sugar',\n",
    "               'chlorides', 'free sulfur dioxide', 'total sulfur dioxide',\n",
    "                   'pH', 'sulphates', 'alcohol']\n",
    "\n",
    "# YOURE GOING TO NEED TO USE A LOOP"
   ]
  },
  {
   "cell_type": "markdown",
   "metadata": {},
   "source": [
    "# Select your predictor features and your target variable.\n",
    "1. Keep only the features that have a linear relationship.  Store them as a list called `selected_features`\n",
    "2. Define your `X` and `y` variables\n",
    "3. Split our data into a training set and a testing set."
   ]
  },
  {
   "cell_type": "code",
   "execution_count": 2,
   "metadata": {},
   "outputs": [],
   "source": [
    "# 1. Keep only the features that have a linear relationship.  Store them as a list called `selected_features`\n",
    "selected_features = [???]"
   ]
  },
  {
   "cell_type": "code",
   "execution_count": null,
   "metadata": {},
   "outputs": [],
   "source": [
    "# Define your X and y variables\n",
    "X = ???\n",
    "\n",
    "\n",
    "# \n",
    "y = ???"
   ]
  },
  {
   "cell_type": "code",
   "execution_count": null,
   "metadata": {},
   "outputs": [],
   "source": [
    "# 3. Split our data into a training set and a testing set.\n"
   ]
  },
  {
   "cell_type": "markdown",
   "metadata": {},
   "source": [
    "___\n",
    "# STEP 3 (b): Build and train our model\n",
    "1. Initialize our Linear Regression model.\n",
    "2. Use our training data to fit aka train our model.\n"
   ]
  },
  {
   "cell_type": "code",
   "execution_count": null,
   "metadata": {},
   "outputs": [],
   "source": [
    "# 1. Initialize our Linear Regression model.\n",
    "\n"
   ]
  },
  {
   "cell_type": "code",
   "execution_count": null,
   "metadata": {},
   "outputs": [],
   "source": [
    "# 2. Use our training data to fit aka train our model.\n"
   ]
  },
  {
   "cell_type": "markdown",
   "metadata": {},
   "source": [
    "___\n",
    "# STEP 4 (e): Evaluate model.\n",
    "1. Make new predicitions using our testing data.\n",
    "2. Calculate R-Squared and Mean Absolute Error socres"
   ]
  },
  {
   "cell_type": "code",
   "execution_count": null,
   "metadata": {},
   "outputs": [],
   "source": [
    "# 1. Make new predicitions using our testing data.\n",
    "y_pred = ???"
   ]
  },
  {
   "cell_type": "markdown",
   "metadata": {},
   "source": [
    "# Now lets see how well the model explains the data by finding the R-Squared.\n",
    "* You can think of r-squared as a goodness of fit measure for the model. \n",
    "* How well the trendline explains the variance of the data. \n",
    "* R-squared measure the strength of the relationship between your model and the dependent variable on a 0-100% scale.\n",
    "* Remember for human labeled data like the quality of wine, .3 is pretty good."
   ]
  },
  {
   "cell_type": "code",
   "execution_count": null,
   "metadata": {},
   "outputs": [],
   "source": [
    "# 2. Calculate R-Squared and Mean Absolute Error socres\n",
    "\n",
    "r_squared = ???\n",
    "print('R-Squared Score:', r_squared)\n",
    "\n",
    "# USE SKLEARN'S MEAN_ABSOLUTE_ERROR FUNCTION TO SCORE OUR PREDICTIONS VS OUR ACTUAL\n",
    "mae = ???\n",
    "print(\"Mean Absolute Error:\", mae)"
   ]
  },
  {
   "cell_type": "markdown",
   "metadata": {},
   "source": [
    "# Saving and exporting our model for future use.\n",
    "* Use the library pickle to export the pickle"
   ]
  },
  {
   "cell_type": "code",
   "execution_count": null,
   "metadata": {},
   "outputs": [],
   "source": [
    "import pickle\n",
    "\n",
    "# NAME YOUR MODEL \n",
    "filename = 'white-wine-model.pkl'\n",
    "\n",
    "# EXPORT AND SAVE YOUR MODEL USING YOUR FILENAME\n"
   ]
  },
  {
   "cell_type": "markdown",
   "metadata": {},
   "source": [
    "___\n",
    "# Random Forest Regression\n",
    "\n",
    "Without step by step guidance, in the cell below, build a Random Forest Regression model and compare the r-squared and mean absolute error scores to the Linear Regression model.\n",
    "* Dont forget, Random Forest can handle non-linear features!\n",
    "\n",
    "* When splitting your data, make sure to use the same random state as you did for your Linear Regression model\n",
    "    * `train_test_split(???, random_state=1)`\n",
    "\n",
    "* Dont forget about `GridSearchCV` from our last lecture :) \n",
    "\n",
    "1. Which model proved to have better scores.\n",
    "2. Why do you think that is...?\n"
   ]
  },
  {
   "cell_type": "code",
   "execution_count": null,
   "metadata": {},
   "outputs": [],
   "source": [
    "# Do complete Random Forest Regression model here...\n",
    "\n",
    "\n",
    "\n",
    "\n",
    "\n",
    "\n",
    "#"
   ]
  },
  {
   "cell_type": "code",
   "execution_count": null,
   "metadata": {},
   "outputs": [],
   "source": [
    "# 1. Which model proved to have better scores.\n",
    "\n",
    "\n",
    "print('Your answer here')"
   ]
  },
  {
   "cell_type": "code",
   "execution_count": null,
   "metadata": {},
   "outputs": [],
   "source": [
    "# 2. Why do you think that is...?\n",
    "\n",
    "\n",
    "print('Your answer here')"
   ]
  },
  {
   "cell_type": "code",
   "execution_count": null,
   "metadata": {},
   "outputs": [],
   "source": []
  }
 ],
 "metadata": {
  "kernelspec": {
   "display_name": "Python 3",
   "language": "python",
   "name": "python3"
  },
  "language_info": {
   "codemirror_mode": {
    "name": "ipython",
    "version": 3
   },
   "file_extension": ".py",
   "mimetype": "text/x-python",
   "name": "python",
   "nbconvert_exporter": "python",
   "pygments_lexer": "ipython3",
   "version": "3.8.5"
  }
 },
 "nbformat": 4,
 "nbformat_minor": 2
}
